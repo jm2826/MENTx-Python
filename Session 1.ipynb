{
 "cells": [
  {
   "cell_type": "markdown",
   "metadata": {},
   "source": [
    "## Covered Topics\n",
    "- Linked Lists\n",
    "- Stacks\n",
    "- Queues\n",
    "- Maps (known as Dictionaries in Python)\n",
    "- Sorting / Searching\n",
    "- Recursion\n",
    "- Dynamic Programming. \n",
    "- Computer Science Interview Process\n",
    "- Homework"
   ]
  },
  {
   "cell_type": "markdown",
   "metadata": {},
   "source": [
    "## Linked Lists\n",
    "- Data structure that connects a sequence of data values with pointers to the next element.\n",
    "- Data values in a linked list do not have to be stored in adjacent memory cells\n",
    "- To accommodate this feature, each data values has an additional \"pointer\" that indicates where the next data value is in computer memory.\n",
    "- In order to use the linked list, we only need to know where the first data value is stored."
   ]
  },
  {
   "cell_type": "markdown",
   "metadata": {},
   "source": [
    "![Linked List Example](ll_ex.png)"
   ]
  },
  {
   "cell_type": "code",
   "execution_count": 2,
   "metadata": {},
   "outputs": [],
   "source": [
    "class Node():\n",
    "    def __init__(self, value):\n",
    "        self.value = value\n",
    "        self.next = None\n",
    "        \n",
    "head = Node(50)\n",
    "\n",
    "# Assign current_node to the address of head\n",
    "# so we don't lose the place of head\n",
    "current_node = head\n",
    "\n",
    "# Assigning values and creating the linked list\n",
    "for value in [42, 85, 71, 99]:\n",
    "    current_node.next = Node(value)\n",
    "    current_node = current_node.next"
   ]
  },
  {
   "cell_type": "code",
   "execution_count": 3,
   "metadata": {},
   "outputs": [
    {
     "name": "stdout",
     "output_type": "stream",
     "text": [
      "50\n",
      "42\n",
      "85\n",
      "71\n",
      "99\n"
     ]
    }
   ],
   "source": [
    "# Traversing the linked list\n",
    "\n",
    "current_node = head\n",
    "\n",
    "while current_node:\n",
    "    print(current_node.value)\n",
    "    current_node = current_node.next"
   ]
  },
  {
   "cell_type": "markdown",
   "metadata": {},
   "source": [
    "### Pros\n",
    "- Inserting and deleting data does not require us to move / shift subsequent data elements\n",
    "\n",
    "### Cons\n",
    "- If we want to access a specific element, we need to traverse the list from the head of the list to find it which can take longer than an array access.\n",
    "- Linked lists require more memory"
   ]
  },
  {
   "cell_type": "markdown",
   "metadata": {},
   "source": [
    "### Tasks\n",
    "- Implement Insert\n",
    "- Implement Delete"
   ]
  },
  {
   "cell_type": "markdown",
   "metadata": {},
   "source": [
    "## Stacks\n",
    "- A stack is a data structure that works on the principle of Last In First Out (LIFO).\n",
    "  - LIFO: The last item put on the stack is the first item that can be taken off.\n",
    "- Common stack operations\n",
    "  - Push: put a new element on to the top of the stack\n",
    "  - Pop: remove the top element from the top of the stack"
   ]
  },
  {
   "cell_type": "code",
   "execution_count": 11,
   "metadata": {},
   "outputs": [
    {
     "name": "stdout",
     "output_type": "stream",
     "text": [
      "[1, 2, 3] \n",
      "\n",
      "Element removed:3\n",
      "Current Stack: [1, 2]\n",
      "\n",
      "Element removed:2\n",
      "Current Stack: [1]\n",
      "\n",
      "Element removed:1\n",
      "Current Stack: []\n",
      "\n"
     ]
    }
   ],
   "source": [
    "stack = []\n",
    "\n",
    "stack.append(1)\n",
    "stack.append(2)\n",
    "stack.append(3)\n",
    "\n",
    "print(stack,\"\\n\")\n",
    "\n",
    "print(\"Element removed: {}\\nCurrent Stack: {}\\n\".format(stack.pop(),stack))\n",
    "print(\"Element removed: {}\\nCurrent Stack: {}\\n\".format(stack.pop(),stack))\n",
    "print(\"Element removed: {}\\nCurrent Stack: {}\\n\".format(stack.pop(),stack))"
   ]
  },
  {
   "cell_type": "markdown",
   "metadata": {},
   "source": [
    "![Stack Example](stack_ex.jpg)"
   ]
  },
  {
   "cell_type": "markdown",
   "metadata": {},
   "source": [
    "## Queues\n",
    "- A queue is a data structure that works on the principle of First In First Out (FIFO).\n",
    "  - FIF: The first item stored in the queue is the first item that can be taken out.\n",
    "- Common queue operations\n",
    "  - Enqueue: put a new element in to the rear of the queue\n",
    "  - Dequeue: remove the first element from the front of the stack"
   ]
  },
  {
   "cell_type": "code",
   "execution_count": 13,
   "metadata": {},
   "outputs": [
    {
     "name": "stdout",
     "output_type": "stream",
     "text": [
      "[1, 2, 3] \n",
      "\n",
      "Element removed: 1\n",
      "Current Queue: [2, 3]\n",
      "\n",
      "Element removed: 2\n",
      "Current Queue: [3]\n",
      "\n",
      "Element removed: 3\n",
      "Current Queue: []\n",
      "\n"
     ]
    }
   ],
   "source": [
    "queue = []\n",
    "\n",
    "queue.append(1)\n",
    "queue.append(2)\n",
    "queue.append(3)\n",
    "\n",
    "print(queue,\"\\n\")\n",
    "\n",
    "print(\"Element removed: {}\\nCurrent Queue: {}\\n\".format(queue.pop(0),queue))\n",
    "print(\"Element removed: {}\\nCurrent Queue: {}\\n\".format(queue.pop(0),queue))\n",
    "print(\"Element removed: {}\\nCurrent Queue: {}\\n\".format(queue.pop(0),queue))"
   ]
  },
  {
   "cell_type": "markdown",
   "metadata": {},
   "source": [
    "![Queue Example](queue_ex.png)"
   ]
  },
  {
   "cell_type": "markdown",
   "metadata": {},
   "source": [
    "## Maps (Dictionaries)\n",
    "- A map is a data structure that is utilized for its fast `O(1)` key look ups. It stores data in the form of key and value pairs where every key is unique. Each key here maps to a value."
   ]
  },
  {
   "cell_type": "code",
   "execution_count": 15,
   "metadata": {},
   "outputs": [
    {
     "data": {
      "text/plain": [
       "[100, 50, 80]"
      ]
     },
     "execution_count": 15,
     "metadata": {},
     "output_type": "execute_result"
    }
   ],
   "source": [
    "test_scores = {\n",
    "    \"Johny\":[90, 60, 70],\n",
    "    \"Kevin\":[100, 50, 80],\n",
    "    \"Suzie\":[100, 90, 70]\n",
    "}\n",
    "\n",
    "test_scores[\"Kevin\"]"
   ]
  },
  {
   "cell_type": "markdown",
   "metadata": {},
   "source": [
    "## Recursion\n",
    "Recursion is a method of solving problems that involves breaking a problem down into smaller and smaller subproblems until you get to a small enough problem that it can be solved trivially. Usually recursion involves a function calling itself.\n",
    "\n",
    "All recursive algorithms must obey three important laws:\n",
    "- A recursive algorithm must have a base case.\n",
    "- A recursive algorithm must change its state and move toward the base case.\n",
    "- A recursive algorithm must call itself, recursively."
   ]
  },
  {
   "cell_type": "code",
   "execution_count": 18,
   "metadata": {},
   "outputs": [],
   "source": [
    "def fibonacci(number):\n",
    "    if number <= 0:\n",
    "        return 0\n",
    "    if number == 1:\n",
    "        return 1\n",
    "    return fibonacci(number - 1) + fibonacci(number - 2)"
   ]
  },
  {
   "cell_type": "code",
   "execution_count": 19,
   "metadata": {},
   "outputs": [
    {
     "data": {
      "text/plain": [
       "13"
      ]
     },
     "execution_count": 19,
     "metadata": {},
     "output_type": "execute_result"
    }
   ],
   "source": [
    "fibonacci(7)"
   ]
  },
  {
   "cell_type": "markdown",
   "metadata": {},
   "source": [
    "![Fibonacci Example](fib_ex.png)"
   ]
  },
  {
   "cell_type": "code",
   "execution_count": 24,
   "metadata": {},
   "outputs": [],
   "source": [
    "def factorial(number):\n",
    "    if number <= 1:\n",
    "        return 1\n",
    "    else:\n",
    "        return number * factorial(number-1)"
   ]
  },
  {
   "cell_type": "code",
   "execution_count": 25,
   "metadata": {},
   "outputs": [
    {
     "data": {
      "text/plain": [
       "6"
      ]
     },
     "execution_count": 25,
     "metadata": {},
     "output_type": "execute_result"
    }
   ],
   "source": [
    "factorial(3)"
   ]
  },
  {
   "cell_type": "markdown",
   "metadata": {},
   "source": [
    "### Resources\n",
    "- [Runestone Python Tutorial - Recursion](https://runestone.academy/runestone/books/published/pythonds/Recursion/WhatIsRecursion.html)"
   ]
  },
  {
   "cell_type": "markdown",
   "metadata": {},
   "source": [
    "## Sorting\n",
    "- MergeSort\n",
    "  - Avg Time Complexity: `O(nlog(n))`\n",
    "  - Recursively splits array in 2's\n",
    "- QuickSort\n",
    "  - Avg Time Complexity: `O(nlog(n))`\n",
    "  - Utilizes pivots"
   ]
  },
  {
   "cell_type": "markdown",
   "metadata": {},
   "source": [
    "### Resources\n",
    "- [Stackabuse - Sorting](https://stackabuse.com/sorting-algorithms-in-python/)"
   ]
  },
  {
   "cell_type": "markdown",
   "metadata": {},
   "source": [
    "## Searching"
   ]
  },
  {
   "cell_type": "markdown",
   "metadata": {},
   "source": [
    "### Binary Search\n",
    "- Binary search follows a divide and conquer methodology. It is faster than linear search but requires that the array be **sorted** before the algorithm is executed."
   ]
  },
  {
   "cell_type": "code",
   "execution_count": 26,
   "metadata": {},
   "outputs": [],
   "source": [
    "def BinarySearch(lst, val):\n",
    "    first = 0\n",
    "    last = len(lst)-1\n",
    "    index = -1\n",
    "    while (first <= last) and (index == -1):\n",
    "        mid = (first+last)//2\n",
    "        if lst[mid] == val:\n",
    "            index = mid\n",
    "        else:\n",
    "            if val<lst[mid]:\n",
    "                last = mid -1\n",
    "            else:\n",
    "                first = mid +1\n",
    "    return index"
   ]
  },
  {
   "cell_type": "code",
   "execution_count": 27,
   "metadata": {},
   "outputs": [
    {
     "data": {
      "text/plain": [
       "1"
      ]
     },
     "execution_count": 27,
     "metadata": {},
     "output_type": "execute_result"
    }
   ],
   "source": [
    "BinarySearch([10,20,30,40,50], 20)"
   ]
  },
  {
   "cell_type": "markdown",
   "metadata": {},
   "source": [
    "### Resources\n",
    "- [Stackabuse - Searching](https://stackabuse.com/search-algorithms-in-python/)"
   ]
  },
  {
   "cell_type": "markdown",
   "metadata": {},
   "source": [
    "## Homework"
   ]
  },
  {
   "cell_type": "markdown",
   "metadata": {},
   "source": [
    "### Problem\n",
    "Effectively find the element with the highest number of occurrences.\n",
    "\n",
    "<u>Example</u>\n",
    "```python\n",
    "lst = [4,3,8,1,2,9,2,5,2]\n",
    "find_most_frequent(lst)\n",
    "```\n",
    "which would return `2`"
   ]
  },
  {
   "cell_type": "code",
   "execution_count": null,
   "metadata": {},
   "outputs": [],
   "source": [
    "def find_most_frequent(inlist):\n",
    "    pass\n",
    "\n",
    "lst = [4,3,8,1,2,9,2,5,2]\n",
    "find_most_frequent(lst)"
   ]
  }
 ],
 "metadata": {
  "kernelspec": {
   "display_name": "Python 3",
   "language": "python",
   "name": "python3"
  },
  "language_info": {
   "codemirror_mode": {
    "name": "ipython",
    "version": 3
   },
   "file_extension": ".py",
   "mimetype": "text/x-python",
   "name": "python",
   "nbconvert_exporter": "python",
   "pygments_lexer": "ipython3",
   "version": "3.7.4"
  }
 },
 "nbformat": 4,
 "nbformat_minor": 4
}
