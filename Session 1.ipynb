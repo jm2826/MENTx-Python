{
 "cells": [
  {
   "cell_type": "markdown",
   "metadata": {},
   "source": [
    "# Covered Topics\n",
    "- Linked Lists\n",
    "- Stacks\n",
    "- Queues\n",
    "- Maps (known as Dictionaries in Python)\n",
    "- Sorting / Searching\n",
    "- Recursion\n",
    "- Computer Science Interview Process\n",
    "- Homework\n",
    "\n",
    "### Topics for Next Session\n",
    "- Time and Space Complexity\n",
    "- Dynamic Programming \n",
    "- Graphs\n",
    "- Trees\n",
    "  - DFS\n",
    "  - BFS"
   ]
  },
  {
   "cell_type": "markdown",
   "metadata": {},
   "source": [
    "# Linked Lists\n",
    "- Data structure that connects a sequence of data values with pointers to the next element.\n",
    "- Data values in a linked list do not have to be stored in adjacent memory cells\n",
    "- To accommodate this feature, each data values has an additional \"pointer\" that indicates where the next data value is in computer memory.\n",
    "- In order to use the linked list, we only need to know where the first data value is stored."
   ]
  },
  {
   "cell_type": "markdown",
   "metadata": {},
   "source": [
    "![Linked List Example](imgs/ll_ex.png)"
   ]
  },
  {
   "cell_type": "code",
   "execution_count": 2,
   "metadata": {},
   "outputs": [],
   "source": [
    "class Node():\n",
    "    def __init__(self, value):\n",
    "        self.value = value\n",
    "        self.next = None\n",
    "        \n",
    "head = Node(50)\n",
    "\n",
    "# Assign current_node to the address of head\n",
    "# so we don't lose the place of head\n",
    "current_node = head\n",
    "\n",
    "# Assigning values and creating the linked list\n",
    "for value in [42, 85, 71, 99]:\n",
    "    current_node.next = Node(value)\n",
    "    current_node = current_node.next"
   ]
  },
  {
   "cell_type": "code",
   "execution_count": 3,
   "metadata": {},
   "outputs": [
    {
     "name": "stdout",
     "output_type": "stream",
     "text": [
      "50\n",
      "42\n",
      "85\n",
      "71\n",
      "99\n"
     ]
    }
   ],
   "source": [
    "# Traversing the linked list\n",
    "\n",
    "current_node = head\n",
    "\n",
    "while current_node:\n",
    "    print(current_node.value)\n",
    "    current_node = current_node.next"
   ]
  },
  {
   "cell_type": "markdown",
   "metadata": {},
   "source": [
    "### Pros\n",
    "- Inserting and deleting data does not require us to move / shift subsequent data elements\n",
    "\n",
    "### Cons\n",
    "- If we want to access a specific element, we need to traverse the list from the head of the list to find it which can take longer than an array access.\n",
    "- Linked lists require more memory"
   ]
  },
  {
   "cell_type": "markdown",
   "metadata": {},
   "source": [
    "### Tasks\n",
    "- Implement Insert\n",
    "- Implement Delete"
   ]
  },
  {
   "cell_type": "markdown",
   "metadata": {},
   "source": [
    "# Stacks\n",
    "- A stack is a data structure that works on the principle of Last In First Out (LIFO).\n",
    "  - LIFO: The last item put on the stack is the first item that can be taken off.\n",
    "- Common stack operations\n",
    "  - Push: put a new element on to the top of the stack\n",
    "  - Pop: remove the top element from the top of the stack"
   ]
  },
  {
   "cell_type": "code",
   "execution_count": 11,
   "metadata": {},
   "outputs": [
    {
     "name": "stdout",
     "output_type": "stream",
     "text": [
      "[1, 2, 3] \n",
      "\n",
      "Element removed:3\n",
      "Current Stack: [1, 2]\n",
      "\n",
      "Element removed:2\n",
      "Current Stack: [1]\n",
      "\n",
      "Element removed:1\n",
      "Current Stack: []\n",
      "\n"
     ]
    }
   ],
   "source": [
    "stack = []\n",
    "\n",
    "stack.append(1)\n",
    "stack.append(2)\n",
    "stack.append(3)\n",
    "\n",
    "print(stack,\"\\n\")\n",
    "\n",
    "print(\"Element removed: {}\\nCurrent Stack: {}\\n\".format(stack.pop(),stack))\n",
    "print(\"Element removed: {}\\nCurrent Stack: {}\\n\".format(stack.pop(),stack))\n",
    "print(\"Element removed: {}\\nCurrent Stack: {}\\n\".format(stack.pop(),stack))"
   ]
  },
  {
   "cell_type": "markdown",
   "metadata": {},
   "source": [
    "![Stack Example](imgs/stack_ex.jpg)"
   ]
  },
  {
   "cell_type": "markdown",
   "metadata": {},
   "source": [
    "# Queues\n",
    "- A queue is a data structure that works on the principle of First In First Out (FIFO).\n",
    "  - FIF: The first item stored in the queue is the first item that can be taken out.\n",
    "- Common queue operations\n",
    "  - Enqueue: put a new element in to the rear of the queue\n",
    "  - Dequeue: remove the first element from the front of the stack"
   ]
  },
  {
   "cell_type": "code",
   "execution_count": 13,
   "metadata": {},
   "outputs": [
    {
     "name": "stdout",
     "output_type": "stream",
     "text": [
      "[1, 2, 3] \n",
      "\n",
      "Element removed: 1\n",
      "Current Queue: [2, 3]\n",
      "\n",
      "Element removed: 2\n",
      "Current Queue: [3]\n",
      "\n",
      "Element removed: 3\n",
      "Current Queue: []\n",
      "\n"
     ]
    }
   ],
   "source": [
    "queue = []\n",
    "\n",
    "queue.append(1)\n",
    "queue.append(2)\n",
    "queue.append(3)\n",
    "\n",
    "print(queue,\"\\n\")\n",
    "\n",
    "print(\"Element removed: {}\\nCurrent Queue: {}\\n\".format(queue.pop(0),queue))\n",
    "print(\"Element removed: {}\\nCurrent Queue: {}\\n\".format(queue.pop(0),queue))\n",
    "print(\"Element removed: {}\\nCurrent Queue: {}\\n\".format(queue.pop(0),queue))"
   ]
  },
  {
   "cell_type": "markdown",
   "metadata": {},
   "source": [
    "![Queue Example](imgs/queue_ex.png)"
   ]
  },
  {
   "cell_type": "markdown",
   "metadata": {},
   "source": [
    "# Maps (Dictionaries)\n",
    "- A map is a data structure that is utilized for its fast `O(1)` key look ups. It stores data in the form of key and value pairs where every key is unique. Each key here maps to a value."
   ]
  },
  {
   "cell_type": "code",
   "execution_count": 2,
   "metadata": {},
   "outputs": [
    {
     "data": {
      "text/plain": [
       "[100, 50, 80]"
      ]
     },
     "execution_count": 2,
     "metadata": {},
     "output_type": "execute_result"
    }
   ],
   "source": [
    "test_scores = {\n",
    "    \"Johny\":[90, 60, 70],\n",
    "    \"Kevin\":[100, 50, 80],\n",
    "    \"Suzie\":[100, 90, 70]\n",
    "}\n",
    "\n",
    "test_scores[\"Kevin\"]"
   ]
  },
  {
   "cell_type": "code",
   "execution_count": 3,
   "metadata": {},
   "outputs": [
    {
     "name": "stdout",
     "output_type": "stream",
     "text": [
      "Johny\n",
      "[90, 60, 70] \n",
      "\n",
      "Kevin\n",
      "[100, 50, 80] \n",
      "\n",
      "Suzie\n",
      "[100, 90, 70] \n",
      "\n"
     ]
    }
   ],
   "source": [
    "for key, item in test_scores.items():\n",
    "    print(key)\n",
    "    print(item, \"\\n\")"
   ]
  },
  {
   "cell_type": "code",
   "execution_count": 4,
   "metadata": {},
   "outputs": [
    {
     "name": "stdout",
     "output_type": "stream",
     "text": [
      "Johny\n",
      "Kevin\n",
      "Suzie\n"
     ]
    }
   ],
   "source": [
    "for key in test_scores.keys():\n",
    "    print(key)"
   ]
  },
  {
   "cell_type": "code",
   "execution_count": 13,
   "metadata": {},
   "outputs": [
    {
     "ename": "KeyError",
     "evalue": "'Unicorn'",
     "output_type": "error",
     "traceback": [
      "\u001b[0;31m---------------------------------------------------------------------------\u001b[0m",
      "\u001b[0;31mKeyError\u001b[0m                                  Traceback (most recent call last)",
      "\u001b[0;32m<ipython-input-13-6429a2510716>\u001b[0m in \u001b[0;36m<module>\u001b[0;34m\u001b[0m\n\u001b[1;32m      1\u001b[0m \u001b[0mdict_test\u001b[0m \u001b[0;34m=\u001b[0m \u001b[0;34m{\u001b[0m\u001b[0;34m\"a\"\u001b[0m\u001b[0;34m:\u001b[0m\u001b[0;36m2\u001b[0m\u001b[0;34m,\u001b[0m\u001b[0;34m\"b\"\u001b[0m\u001b[0;34m:\u001b[0m\u001b[0;36m3\u001b[0m\u001b[0;34m}\u001b[0m\u001b[0;34m\u001b[0m\u001b[0;34m\u001b[0m\u001b[0m\n\u001b[0;32m----> 2\u001b[0;31m \u001b[0mdict_test\u001b[0m\u001b[0;34m[\u001b[0m\u001b[0;34m\"Unicorn\"\u001b[0m\u001b[0;34m]\u001b[0m \u001b[0;34m+=\u001b[0m \u001b[0;36m1\u001b[0m\u001b[0;34m\u001b[0m\u001b[0;34m\u001b[0m\u001b[0m\n\u001b[0m",
      "\u001b[0;31mKeyError\u001b[0m: 'Unicorn'"
     ]
    }
   ],
   "source": [
    "dict_test = {\"a\":2,\"b\":3}\n",
    "dict_test[\"Unicorn\"] += 1"
   ]
  },
  {
   "cell_type": "code",
   "execution_count": 15,
   "metadata": {},
   "outputs": [
    {
     "name": "stdout",
     "output_type": "stream",
     "text": [
      "Vanilla\n",
      "defaultdict(<class 'list'>, {'Texas': ['Dallas']})\n",
      "0\n"
     ]
    }
   ],
   "source": [
    "from collections import defaultdict\n",
    "\n",
    "ice_cream = defaultdict(lambda: 'Vanilla')\n",
    "print(ice_cream[\"Kevin\"])\n",
    "\n",
    "\n",
    "# cities_by_state = defaultdict(lambda: [])\n",
    "cities_by_state = defaultdict(list)\n",
    "cities_by_state[\"Texas\"].append(\"Dallas\")\n",
    "print(cities_by_state)\n",
    "\n",
    "# food_count = defaultdict(lambda: 0)\n",
    "food_count = defaultdict(int)\n",
    "print(food_count[\"Bread\"])"
   ]
  },
  {
   "cell_type": "code",
   "execution_count": 14,
   "metadata": {},
   "outputs": [
    {
     "name": "stdout",
     "output_type": "stream",
     "text": [
      "Counter({'a': 2, 'b': 1})\n",
      "Counter({'a': 2, 'b': 1, 'Unicorn': 1})\n"
     ]
    }
   ],
   "source": [
    "from collections import Counter\n",
    "\n",
    "# Counter with initial values\n",
    "counter = Counter(['a', 'a', 'b'])\n",
    "print(counter)\n",
    "\n",
    "# setting count for non-existing key, adds to Counter\n",
    "counter['Unicorn'] += 1\n",
    "print(counter)"
   ]
  },
  {
   "cell_type": "markdown",
   "metadata": {},
   "source": [
    "# Recursion\n",
    "Recursion is a method of solving problems that involves breaking a problem down into smaller and smaller subproblems until you get to a small enough problem that it can be solved trivially. Usually recursion involves a function calling itself.\n",
    "\n",
    "All recursive algorithms must obey three important laws:\n",
    "- A recursive algorithm must have a base case.\n",
    "- A recursive algorithm must change its state and move toward the base case.\n",
    "- A recursive algorithm must call itself, recursively."
   ]
  },
  {
   "cell_type": "code",
   "execution_count": 18,
   "metadata": {},
   "outputs": [],
   "source": [
    "def fibonacci(number):\n",
    "    if number <= 0:\n",
    "        return 0\n",
    "    if number == 1:\n",
    "        return 1\n",
    "    return fibonacci(number - 1) + fibonacci(number - 2)"
   ]
  },
  {
   "cell_type": "code",
   "execution_count": 19,
   "metadata": {},
   "outputs": [
    {
     "data": {
      "text/plain": [
       "13"
      ]
     },
     "execution_count": 19,
     "metadata": {},
     "output_type": "execute_result"
    }
   ],
   "source": [
    "fibonacci(7)"
   ]
  },
  {
   "cell_type": "markdown",
   "metadata": {},
   "source": [
    "![Fibonacci Example](imgs/fib_ex.png)"
   ]
  },
  {
   "cell_type": "code",
   "execution_count": 24,
   "metadata": {},
   "outputs": [],
   "source": [
    "def factorial(number):\n",
    "    if number <= 1:\n",
    "        return 1\n",
    "    else:\n",
    "        return number * factorial(number-1)"
   ]
  },
  {
   "cell_type": "code",
   "execution_count": 25,
   "metadata": {},
   "outputs": [
    {
     "data": {
      "text/plain": [
       "6"
      ]
     },
     "execution_count": 25,
     "metadata": {},
     "output_type": "execute_result"
    }
   ],
   "source": [
    "factorial(3)"
   ]
  },
  {
   "cell_type": "markdown",
   "metadata": {},
   "source": [
    "### Resources\n",
    "- [Runestone Python Tutorial - Recursion](https://runestone.academy/runestone/books/published/pythonds/Recursion/WhatIsRecursion.html)"
   ]
  },
  {
   "cell_type": "markdown",
   "metadata": {},
   "source": [
    "# Sorting\n",
    "- MergeSort\n",
    "  - Avg Time Complexity: `O(nlog(n))`\n",
    "  - Recursively splits array in 2's\n",
    "- QuickSort\n",
    "  - Avg Time Complexity: `O(nlog(n))`\n",
    "  - Utilizes pivots"
   ]
  },
  {
   "cell_type": "markdown",
   "metadata": {},
   "source": [
    "### MergeSort\n",
    "\n",
    "MergeSort(arr[ ], l,  r)\n",
    "If r > l\n",
    "     1. Find the middle point to divide the array into two halves:  \n",
    "             middle m = (l+r)/2\n",
    "     2. Call mergeSort for first half:   \n",
    "             Call mergeSort(arr, l, m)\n",
    "     3. Call mergeSort for second half:\n",
    "             Call mergeSort(arr, m+1, r)\n",
    "     4. Merge the two halves sorted in step 2 and 3:\n",
    "             Call merge(arr, l, m, r)"
   ]
  },
  {
   "cell_type": "markdown",
   "metadata": {},
   "source": [
    "![Merge Sort](imgs/mergesort_ex.png)"
   ]
  },
  {
   "cell_type": "code",
   "execution_count": 17,
   "metadata": {},
   "outputs": [
    {
     "name": "stdout",
     "output_type": "stream",
     "text": [
      "Given array is\n",
      "38 27 43 3 9 82 10 \n",
      "[27] [43]\n",
      "[38] [27, 43]\n",
      "[3] [9]\n",
      "[82] [10]\n",
      "[3, 9] [10, 82]\n",
      "[27, 38, 43] [3, 9, 10, 82]\n",
      "Sorted array is: \n",
      "3 9 10 27 38 43 82 \n"
     ]
    }
   ],
   "source": [
    "# Python program for implementation of MergeSort \n",
    "def mergeSort(arr): \n",
    "    if len(arr) >1: \n",
    "        mid = len(arr)//2 #Finding the mid of the array \n",
    "        L = arr[:mid] # Dividing the array elements  \n",
    "        R = arr[mid:] # into 2 halves \n",
    "\n",
    "        mergeSort(L) # Sorting the first half \n",
    "        mergeSort(R) # Sorting the second half \n",
    "        print(L,R)\n",
    "        i = j = k = 0\n",
    "\n",
    "        while i < len(L) and j < len(R): \n",
    "            if L[i] < R[j]: \n",
    "                arr[k] = L[i] \n",
    "                i+=1\n",
    "            else: \n",
    "                arr[k] = R[j] \n",
    "                j+=1\n",
    "            k+=1\n",
    "\n",
    "        # Checking if any element was left \n",
    "        while i < len(L): \n",
    "            arr[k] = L[i] \n",
    "            i+=1\n",
    "            k+=1\n",
    "\n",
    "        while j < len(R): \n",
    "            arr[k] = R[j] \n",
    "            j+=1\n",
    "            k+=1\n",
    "  \n",
    "# Code to print the list \n",
    "def printList(arr): \n",
    "    for i in range(len(arr)):         \n",
    "        print(arr[i],end=\" \") \n",
    "    print() \n",
    "  \n",
    "arr = [38, 27, 43, 3, 9, 82, 10]  \n",
    "print (\"Given array is\", end=\"\\n\")  \n",
    "printList(arr) \n",
    "mergeSort(arr) \n",
    "print(\"Sorted array is: \", end=\"\\n\") \n",
    "printList(arr) "
   ]
  },
  {
   "cell_type": "markdown",
   "metadata": {},
   "source": [
    "### Resources\n",
    "- [Stackabuse - Sorting](https://stackabuse.com/sorting-algorithms-in-python/)"
   ]
  },
  {
   "cell_type": "markdown",
   "metadata": {},
   "source": [
    "# Searching"
   ]
  },
  {
   "cell_type": "markdown",
   "metadata": {},
   "source": [
    "### Binary Search\n",
    "- Binary search follows a divide and conquer methodology. It is faster than linear search but requires that the array be **sorted** before the algorithm is executed."
   ]
  },
  {
   "cell_type": "code",
   "execution_count": 26,
   "metadata": {},
   "outputs": [],
   "source": [
    "def BinarySearch(lst, val):\n",
    "    first = 0\n",
    "    last = len(lst)-1\n",
    "    index = -1\n",
    "    while (first <= last) and (index == -1):\n",
    "        mid = (first+last)//2\n",
    "        if lst[mid] == val:\n",
    "            index = mid\n",
    "        else:\n",
    "            if val<lst[mid]:\n",
    "                last = mid -1\n",
    "            else:\n",
    "                first = mid +1\n",
    "    return index"
   ]
  },
  {
   "cell_type": "code",
   "execution_count": 27,
   "metadata": {},
   "outputs": [
    {
     "data": {
      "text/plain": [
       "1"
      ]
     },
     "execution_count": 27,
     "metadata": {},
     "output_type": "execute_result"
    }
   ],
   "source": [
    "BinarySearch([10,20,30,40,50], 20)"
   ]
  },
  {
   "cell_type": "markdown",
   "metadata": {},
   "source": [
    "### Resources\n",
    "- [Stackabuse - Searching](https://stackabuse.com/search-algorithms-in-python/)"
   ]
  },
  {
   "cell_type": "markdown",
   "metadata": {},
   "source": [
    "# Software Interview"
   ]
  },
  {
   "cell_type": "markdown",
   "metadata": {},
   "source": [
    "### Technical Domains\n",
    "- **Algorithm Complexity**: It's fairly critical that you understand big-O complexity analysis. Again run some practice problems to get this down in application.\n",
    "- **Coding**: Come up with solutions quickly! Time yourself during practice problems to make sure you're working at an appropriate pace, as we generally look to have about 20-30 lines of code written over the course of a 45-minute interview. Make sure your code is clean, bug-free and properly handles edge cases. If you need to write pseudo-code to gather your thoughts first, verbally tell the interviewer this is what you're doing.\n",
    "- **Sorting**: Know how to sort. Don't do bubble-sort. You should know the details of at least one n*log(n) sorting algorithm, preferably two (say, quicksort and merge sort). Merge sort can be highly useful in situations where quicksort is impractical, so take a look at it.\n",
    "- **Hash tables**: Arguably the single most important data structure known to mankind. You absolutely should know how they work. Be able to implement one using only arrays in your favorite language, in about the space of one interview.\n",
    "- **Trees**: Know about trees; basic tree construction, traversal and manipulation algorithms. Familiarize yourself with binary trees, n-ary trees, and trie-trees. Be familiar with at least one type of balanced binary tree, whether it's a red/black tree, a splay tree or an AVL tree, and know how it's implemented. Understand tree traversal algorithms: BFS and DFS, and know the difference between inorder, postorder and preorder.\n",
    "- **Graphs**: Graphs are really important at Google. There are 3 basic ways to represent a graph in memory (objects and pointers, matrix, and adjacency list); familiarize yourself with each representation and its pros & cons. You should know the basic graph traversal algorithms: breadth first search and depth first search. Know their computational complexity, their tradeoffs, and how to implement them in real code.\n",
    "- **Other data structures**: You should study up on as many other data structures and algorithms as possible. You should especially know about the most famous classes of NP-complete problems, such as traveling salesman and the knapsack problem, and be able to recognize them when an interviewer asks you them in disguise. Find out what NP-complete means.\n",
    "- **Mathematics**: Some interviewers ask basic discrete math questions. This is more prevalent at Google than at other companies because we are surrounded by counting problems, probability problems, and other Discrete Math 101 situations. Spend some time before the interview refreshing your memory on (or teaching yourself) the essentials of combinatorics and probability. You should be familiar with n-choose-k problems and their ilk – the more the better.\n",
    "- **Operating Systems**: Know about processes, threads and concurrency issues. Know about locks and mutexes and semaphores and monitors and how they work. Know about deadlock and livelock and how to avoid them. Know what resources a processes needs, and a thread needs, and how context switching works, and how it's initiated by the operating system and underlying hardware. Know a little about scheduling. The world is rapidly moving towards multi-core, so know the fundamentals of \"modern\" concurrency constructs\n",
    "- **Test Cases**: come up with a variety of small test cases, beyond the examples provided by the interviewer. This will show your general fluency rather than simply your understanding of the problem at hand.\n",
    "\n",
    "### Technical Communication\n",
    "- **Ask clarifying questions**: Most questions your interviewer asks are under specified so you may need to ask clarifying questions before you start working on a solution. If you need to make assumptions, state those assumptions to your interviewer. Always let your interviewer know what you are thinking as they are as interested in your thought process and how you approach the problem as the solution itself. Also, if you're stuck, they may provide hints if they know what you're doing. If there is anything you don’t understand - it is okay to ask your interviewer for help or clarification.\n",
    "- **Stop, define, and frame**: When asked to provide a solution, first define and frame the problem as you see it.\n",
    "- **Stay Verbal**: If you need to assume something - verbally check that it is a correct assumption. Be sure that you describe how you want to tackle solving each part of the question.\n",
    "\n",
    "### The Technical Phone Interviews\n",
    "Your phone interview will cover data structures and algorithms. Be prepared to write around 20-30 lines of code in your strongest language. Approach all scripting as a coding exercise — this should be clean, rich, robust code.\n",
    "1. You will be asked an open-ended question. Ask clarifying questions, devise requirements.\n",
    "2. You will be asked to explain it in an algorithm.\n",
    "3. Convert it to a workable code. Hint: Don't worry about getting it perfect because time is limited. Write what comes but then refine it later. Also make sure you consider corner cases and edge cases, production ready.\n",
    "4. Optimize the code, follow it with test cases and find any bugs.\n",
    "\n",
    "### Videos\n",
    "- [How to Prepare](https://www.youtube.com/embed/ko-KkSmp-Lk)\n",
    "- [Example of Coding Interview](https://www.youtube.com/embed/XKu_SEDAykw)\n",
    "- [Candidate Coaching Session](https://www.youtube.com/embed/oWbUtlUhwa8)"
   ]
  },
  {
   "cell_type": "code",
   "execution_count": 13,
   "metadata": {
    "scrolled": true
   },
   "outputs": [
    {
     "data": {
      "text/html": [
       "\n",
       "<iframe src=\"https://www.youtube.com/embed/ko-KkSmp-Lk?rel=0&amp;controls=0&amp;showinfo=0\" width=\"560\" height=\"315\"  frameborder=\"0\" allowfullscreen>\n",
       "</iframe>\n"
      ],
      "text/plain": [
       "<IPython.core.display.HTML object>"
      ]
     },
     "execution_count": 13,
     "metadata": {},
     "output_type": "execute_result"
    }
   ],
   "source": [
    "from IPython.display import HTML\n",
    "\n",
    "HTML(\"\"\"\n",
    "<iframe src=\"https://www.youtube.com/embed/ko-KkSmp-Lk?rel=0&amp;controls=0&amp;showinfo=0\" width=\"560\" height=\"315\"  frameborder=\"0\" allowfullscreen>\n",
    "</iframe>\n",
    "\"\"\")"
   ]
  },
  {
   "cell_type": "code",
   "execution_count": 15,
   "metadata": {},
   "outputs": [
    {
     "data": {
      "text/html": [
       "\n",
       "<iframe src=\"https://www.youtube.com/embed/XKu_SEDAykw?rel=0&amp;controls=0&amp;showinfo=0\" width=\"560\" height=\"315\"  frameborder=\"0\" allowfullscreen>\n",
       "</iframe>\n"
      ],
      "text/plain": [
       "<IPython.core.display.HTML object>"
      ]
     },
     "execution_count": 15,
     "metadata": {},
     "output_type": "execute_result"
    }
   ],
   "source": [
    "HTML(\"\"\"\n",
    "<iframe src=\"https://www.youtube.com/embed/XKu_SEDAykw?rel=0&amp;controls=0&amp;showinfo=0\" width=\"560\" height=\"315\"  frameborder=\"0\" allowfullscreen>\n",
    "</iframe>\n",
    "\"\"\")"
   ]
  },
  {
   "cell_type": "code",
   "execution_count": 14,
   "metadata": {},
   "outputs": [
    {
     "data": {
      "text/html": [
       "\n",
       "<iframe src=\"https://www.youtube.com/embed/oWbUtlUhwa8?rel=0&amp;controls=0&amp;showinfo=0\" width=\"560\" height=\"315\"  frameborder=\"0\" allowfullscreen>\n",
       "</iframe>\n"
      ],
      "text/plain": [
       "<IPython.core.display.HTML object>"
      ]
     },
     "execution_count": 14,
     "metadata": {},
     "output_type": "execute_result"
    }
   ],
   "source": [
    "HTML(\"\"\"\n",
    "<iframe src=\"https://www.youtube.com/embed/oWbUtlUhwa8?rel=0&amp;controls=0&amp;showinfo=0\" width=\"560\" height=\"315\"  frameborder=\"0\" allowfullscreen>\n",
    "</iframe>\n",
    "\"\"\")"
   ]
  },
  {
   "cell_type": "markdown",
   "metadata": {},
   "source": [
    "### Resources\n",
    "\n",
    "- [Cracking the Coding Interview](https://books.google.ie/books?id=nlgWywAACAAJ&dq=Cracking+the+Coding+Interview&hl=en&sa=X&ei=hUTtUfXVCoSg4gS5v4C4BQ)\n",
    "  - Book with 150 programming interview questions and solutions\n",
    "- [interviewing.io](https://interviewing.io/)\n",
    "  - Free interview practice with engineers at Google and Facebook\n",
    "- [LeetCode](http://leetcode.com/)\n",
    "  - Coding Practice\n",
    "- [BigOCheatSheet](http://bigocheatsheet.com/)\n",
    "  - Algorithm/Data Structure Review"
   ]
  },
  {
   "cell_type": "markdown",
   "metadata": {},
   "source": [
    "# Homework"
   ]
  },
  {
   "cell_type": "markdown",
   "metadata": {},
   "source": [
    "### Problem: Highest Occurrence\n",
    "Effectively find the element with the highest number of occurrences.\n",
    "\n",
    "<u>Example</u>\n",
    "```python\n",
    "lst = [4,3,8,1,2,9,2,5,2]\n",
    "find_most_frequent(lst)\n",
    "```\n",
    "which would return `2`"
   ]
  },
  {
   "cell_type": "code",
   "execution_count": null,
   "metadata": {},
   "outputs": [],
   "source": [
    "def find_most_frequent(inlist):\n",
    "    pass\n",
    "\n",
    "lst = [4,3,8,1,2,9,2,5,2]\n",
    "find_most_frequent(lst)"
   ]
  },
  {
   "cell_type": "markdown",
   "metadata": {},
   "source": [
    "### Problem: Insert and Delete\n",
    "Add funcionality to the insert and delete methods of the object LinkedList. When you insert an element into a linked list, you insert it into the back. When deleting, the method will be given a value to search for, and it will handle both deleting and connecting nodes in place of the deleted node."
   ]
  },
  {
   "cell_type": "code",
   "execution_count": 3,
   "metadata": {},
   "outputs": [],
   "source": [
    "class Node():\n",
    "    def __init__(self, value):\n",
    "        self.value = value\n",
    "        self.next = None\n",
    "\n",
    "\n",
    "class LinkedList():\n",
    "    def __init__(self, head):\n",
    "        self.head = head\n",
    "        \n",
    "    def insert(self, node):\n",
    "        pass\n",
    "    \n",
    "    def delete(self, value):\n",
    "        pass\n",
    "        \n",
    "    def printlist(self):\n",
    "        current_node = self.head\n",
    "        while current_node:\n",
    "            print(current_node.value)\n",
    "            current_node = current_node.next\n",
    "        "
   ]
  },
  {
   "cell_type": "code",
   "execution_count": 4,
   "metadata": {},
   "outputs": [
    {
     "name": "stdout",
     "output_type": "stream",
     "text": [
      "5\n"
     ]
    }
   ],
   "source": [
    "ll = LinkedList(Node(5))\n",
    "# ll.insert(Node(2))\n",
    "# ll.insert(Node(10))\n",
    "# ll.delete(2)\n",
    "ll.printlist()"
   ]
  },
  {
   "cell_type": "markdown",
   "metadata": {},
   "source": [
    "### Problem: Two Sum\n",
    "[LeetCode Link](https://leetcode.com/problems/two-sum/)\n",
    "\n",
    "Given an array of integers, return indices of the two numbers such that they add up to a specific target.\n",
    "\n",
    "You may assume that each input would have exactly one solution, and you may not use the same element twice.\n",
    "\n",
    "Example:\n",
    "```\n",
    "Given nums = [2, 7, 11, 15], target = 9,\n",
    "\n",
    "Because nums[0] + nums[1] = 2 + 7 = 9,\n",
    "return [0, 1].\n",
    "```\n",
    "\n",
    "Hints:\n",
    "- Start with brute force.\n",
    "- Simply iterate through\n",
    "- the enumerate function may be useful\n",
    "- a dictionary will be useful"
   ]
  },
  {
   "cell_type": "code",
   "execution_count": 9,
   "metadata": {},
   "outputs": [
    {
     "name": "stdout",
     "output_type": "stream",
     "text": [
      "i: 0 and value: Joe\n",
      "i: 1 and value: Bob\n",
      "i: 2 and value: Laura\n"
     ]
    }
   ],
   "source": [
    "for i, value in enumerate([\"Joe\",\"Bob\",\"Laura\"]):\n",
    "    print(\"i: {} and value: {}\".format(i,value))"
   ]
  },
  {
   "cell_type": "code",
   "execution_count": null,
   "metadata": {},
   "outputs": [],
   "source": [
    "def twoSum(self, nums, target):\n",
    "    pass\n",
    "\n",
    "twoSum([2,7,11,15],9)"
   ]
  },
  {
   "cell_type": "markdown",
   "metadata": {},
   "source": [
    "### Problem: Triple Step\n",
    "\n",
    "A child is running up a staircase with n steps and can hop either 1 step, 2 steps, or 3 steps at a time. Implement a method to count how many possible ways the child can run up the stairs."
   ]
  },
  {
   "cell_type": "code",
   "execution_count": null,
   "metadata": {},
   "outputs": [],
   "source": [
    "def tripleStep(n):\n",
    "    #if basecase1:\n",
    "        #return something\n",
    "    #if basecase2:\n",
    "        #return something\n",
    "    #if basecase3:\n",
    "        #return something\n",
    "    \n",
    "    #return tripleStep(move-towards-base) + tripleStep(move-towards-base) + tripleStep(move-towards-base)\n",
    "    \n",
    "    pass"
   ]
  }
 ],
 "metadata": {
  "kernelspec": {
   "display_name": "Python 3",
   "language": "python",
   "name": "python3"
  },
  "language_info": {
   "codemirror_mode": {
    "name": "ipython",
    "version": 3
   },
   "file_extension": ".py",
   "mimetype": "text/x-python",
   "name": "python",
   "nbconvert_exporter": "python",
   "pygments_lexer": "ipython3",
   "version": "3.7.4"
  }
 },
 "nbformat": 4,
 "nbformat_minor": 4
}
