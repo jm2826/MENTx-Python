{
 "cells": [
  {
   "cell_type": "markdown",
   "metadata": {},
   "source": [
    "# Covered Topics\n",
    "- Time and Space Complexity\n",
    "- Dynamic Programming \n",
    "- Graphs\n",
    "- Trees\n",
    "  - DFS\n",
    "  - BFS"
   ]
  },
  {
   "cell_type": "markdown",
   "metadata": {},
   "source": [
    "# Big-O Notation \n",
    "[Big-O Notation](https://en.wikipedia.org/wiki/Big_O_notation) is a statistical measure, used to describe the complexity of the algorithm. In computer science, Big-O Notation is used to classify algorithms by how they respond to changes in input size, such as how the processing time of an algorithm changes as the problem size becomes extremely large.\n",
    "\n",
    "|Name | Big O|\n",
    "|------|------|\n",
    "|Constant|O(c)|\n",
    "|Linear|O(n)|\n",
    "|Quadratic|O(n^2)|\n",
    "|Cubic|O(n^3)|\n",
    "|Exponential|O(2^n)|\n",
    "|Logarithmic|O(log(n))|\n",
    "|Log Linear|O(nlog(n))|"
   ]
  },
  {
   "cell_type": "markdown",
   "metadata": {},
   "source": [
    "### Time Complexity"
   ]
  },
  {
   "cell_type": "code",
   "execution_count": 1,
   "metadata": {},
   "outputs": [
    {
     "name": "stdout",
     "output_type": "stream",
     "text": [
      "16\n"
     ]
    }
   ],
   "source": [
    "# Constant Complexity (O(C))\n",
    "\n",
    "def constant_algo(items):\n",
    "    result = items[0] * items[0]\n",
    "    print (result)\n",
    "\n",
    "constant_algo([4, 5, 6, 8])"
   ]
  },
  {
   "cell_type": "code",
   "execution_count": 2,
   "metadata": {},
   "outputs": [
    {
     "name": "stdout",
     "output_type": "stream",
     "text": [
      "4\n",
      "5\n",
      "6\n",
      "8\n"
     ]
    }
   ],
   "source": [
    "# Linear Complexity (O(n))\n",
    "\n",
    "def linear_algo(items):\n",
    "    for item in items:\n",
    "        print(item)\n",
    "\n",
    "linear_algo([4, 5, 6, 8])"
   ]
  },
  {
   "cell_type": "code",
   "execution_count": 3,
   "metadata": {},
   "outputs": [
    {
     "name": "stdout",
     "output_type": "stream",
     "text": [
      "4\n",
      "5\n",
      "6\n",
      "8\n",
      "4\n",
      "5\n",
      "6\n",
      "8\n"
     ]
    }
   ],
   "source": [
    "def linear_algo(items):\n",
    "    for item in items:\n",
    "        print(item)\n",
    "\n",
    "    for item in items:\n",
    "        print(item)\n",
    "\n",
    "linear_algo([4, 5, 6, 8])"
   ]
  },
  {
   "cell_type": "markdown",
   "metadata": {},
   "source": [
    "In the script above, there are two for-loops that iterate over the input items list. Therefore the complexity of the algorithm becomes O(2n), however in case of infinite items in the input list, the twice of infinity is still equal to infinity, therefore we can ignore the constant 2 (since it is ultimately insignificant) and the complexity of the algorithm remains O(n)."
   ]
  },
  {
   "cell_type": "code",
   "execution_count": 4,
   "metadata": {},
   "outputs": [
    {
     "name": "stdout",
     "output_type": "stream",
     "text": [
      "4   4\n",
      "4   5\n",
      "4   6\n",
      "4   8\n",
      "5   4\n",
      "5   5\n",
      "5   6\n",
      "5   8\n",
      "6   4\n",
      "6   5\n",
      "6   6\n",
      "6   8\n",
      "8   4\n",
      "8   5\n",
      "8   6\n",
      "8   8\n"
     ]
    }
   ],
   "source": [
    "# Quadratic Complexity (O(n^2))\n",
    "\n",
    "def quadratic_algo(items):\n",
    "    for item in items:\n",
    "        for item2 in items:\n",
    "            print(item, ' ' ,item2)\n",
    "\n",
    "quadratic_algo([4, 5, 6, 8])"
   ]
  },
  {
   "cell_type": "code",
   "execution_count": 5,
   "metadata": {},
   "outputs": [
    {
     "name": "stdout",
     "output_type": "stream",
     "text": [
      "4\n",
      "8\n"
     ]
    }
   ],
   "source": [
    "# Logarithmic Complexity (O(log n))\n",
    "\n",
    "def logarithmic_algo(items):\n",
    "    for index in range(0, len(items), 3):\n",
    "        print(items[index])\n",
    "\n",
    "logarithmic_algo([4, 5, 6, 8])"
   ]
  },
  {
   "cell_type": "markdown",
   "metadata": {},
   "source": [
    "An algorithm is said to have a logarithmic time complexity when it reduces the size of the input data in each step (it doesn’t need to look at all values of the input data)."
   ]
  },
  {
   "cell_type": "code",
   "execution_count": 6,
   "metadata": {},
   "outputs": [],
   "source": [
    "# Exponential Complexity (O(2^n))\n",
    "\n",
    "def fibonacci(n):\n",
    "    if n <= 1:\n",
    "        return n\n",
    "    return fibonacci(n-1) + fibonacci(n-2)"
   ]
  },
  {
   "cell_type": "markdown",
   "metadata": {},
   "source": [
    "### Space Complexity\n",
    "In addition to the time complexity, where you count the number of steps required to complete the execution of an algorithm, you can also find space complexity which refers to the number of spaces you need to allocate in the memory space during the execution of a program."
   ]
  },
  {
   "cell_type": "code",
   "execution_count": 7,
   "metadata": {},
   "outputs": [
    {
     "name": "stdout",
     "output_type": "stream",
     "text": [
      "[4, 16, 36, 64, 100]\n"
     ]
    }
   ],
   "source": [
    "def return_squares(n):\n",
    "    square_list = []\n",
    "    for num in n:\n",
    "        square_list.append(num * num)\n",
    "\n",
    "    return square_list\n",
    "\n",
    "nums = [2, 4, 6, 8, 10]\n",
    "print(return_squares(nums))"
   ]
  },
  {
   "cell_type": "markdown",
   "metadata": {},
   "source": [
    "In the script above, the function accepts a list of integers and returns a list with the corresponding squares of integers. The algorithm has to allocate memory for the same number of items as in the input list. Therefore, the space complexity of the algorithm becomes O(n)."
   ]
  },
  {
   "cell_type": "markdown",
   "metadata": {},
   "source": [
    "### References\n",
    "\n",
    "[towardsdatascience](https://towardsdatascience.com/understanding-time-complexity-with-python-examples-2bda6e8158a7)\n",
    "\n",
    "[stackabuse](https://towardsdatascience.com/understanding-time-complexity-with-python-examples-2bda6e8158a7)"
   ]
  },
  {
   "cell_type": "markdown",
   "metadata": {},
   "source": [
    "# Dynamic Programming"
   ]
  },
  {
   "cell_type": "markdown",
   "metadata": {},
   "source": [
    "Dynamic Programming is mainly an optimization over plain recursion. Wherever we see a recursive solution that has repeated calls for same inputs, we can optimize it using Dynamic Programming. The idea is to simply store the results of subproblems, so that we do not have to re-compute them when needed later. "
   ]
  },
  {
   "cell_type": "markdown",
   "metadata": {},
   "source": [
    "### Fibonacci Example\n",
    "\n",
    "The Fibonacci numbers are the numbers in the following integer sequence.\n",
    "\n",
    "$0, 1, 1, 2, 3, 5, 8, 13, 21, 34, 55, 89, 144, ……..$\n",
    "\n",
    "In mathematical terms, the sequence $F_n$ of Fibonacci numbers is defined by the recurrence relation\n",
    "\n",
    "$F_n = F_{n-1}+ F_{n-2}$\n",
    "\n",
    "with seed values\n",
    "\n",
    "$F_0 = 0$ and $F_1 = 1.$"
   ]
  },
  {
   "cell_type": "code",
   "execution_count": 8,
   "metadata": {},
   "outputs": [],
   "source": [
    "def fibonacci(number):\n",
    "    if number <= 0:\n",
    "        return 0\n",
    "    if number == 1:\n",
    "        return 1\n",
    "    return fibonacci(number - 1) + fibonacci(number - 2)"
   ]
  },
  {
   "cell_type": "markdown",
   "metadata": {},
   "source": [
    "**Time Complexity**: T(n) = T(n-1) + T(n-2) which is exponential.\n",
    "\n",
    "We can observe that this implementation does a lot of repeated work (see the following recursion tree). So this is a bad implementation for nth Fibonacci number.\n",
    "\n",
    "```\n",
    "                       fib(5)   \n",
    "                     /                \\\n",
    "               fib(4)                fib(3)   \n",
    "             /        \\              /       \\ \n",
    "         fib(3)      fib(2)         fib(2)   fib(1)\n",
    "        /    \\       /    \\        /      \\\n",
    "  fib(2)   fib(1)  fib(1) fib(0) fib(1) fib(0)\n",
    "  /     \\\n",
    "fib(1) fib(0)\n",
    "```\n",
    "\n",
    "This is where Dynamic Programming can help. We can avoid the repeated work done is the method 1 by storing the Fibonacci numbers calculated so far."
   ]
  },
  {
   "cell_type": "code",
   "execution_count": 9,
   "metadata": {},
   "outputs": [
    {
     "name": "stdout",
     "output_type": "stream",
     "text": [
      "34\n"
     ]
    }
   ],
   "source": [
    "# Fibonacci Series using Dynamic Programming  \n",
    "def fibonacci(n):  \n",
    "      \n",
    "    # Taking 1st two fibonacci nubers as 0 and 1  \n",
    "    FibArray = [0, 1]  \n",
    "      \n",
    "    while len(FibArray) < n + 1:  \n",
    "        FibArray.append(0)  \n",
    "      \n",
    "    if n <= 1:  \n",
    "        return n  \n",
    "    else:  \n",
    "        if FibArray[n - 1] == 0:  \n",
    "            FibArray[n - 1] = fibonacci(n - 1)  \n",
    "  \n",
    "        if FibArray[n - 2] == 0:  \n",
    "            FibArray[n - 2] = fibonacci(n - 2)  \n",
    "              \n",
    "    FibArray[n] = FibArray[n - 2] + FibArray[n - 1]  \n",
    "    return FibArray[n]  \n",
    "      \n",
    "print(fibonacci(9))  "
   ]
  },
  {
   "cell_type": "markdown",
   "metadata": {},
   "source": [
    "Since we optimized the function by storing solutions of subproblems, the **time complexity** reduced to linear."
   ]
  },
  {
   "cell_type": "markdown",
   "metadata": {},
   "source": [
    "### Outside Reading\n",
    "\n",
    "[Tabulation vs Memoizatation](https://www.geeksforgeeks.org/tabulation-vs-memoizatation/)\n",
    "\n",
    "[Optimal Substructure Property](https://www.geeksforgeeks.org/dynamic-programming-set-2-optimal-substructure-property/)\n",
    "\n",
    "[Overlapping Subproblems Property](https://www.geeksforgeeks.org/dynamic-programming-set-1/)\n",
    "\n",
    "[How to solve a Dynamic Programming Problem ?](https://www.geeksforgeeks.org/solve-dynamic-programming-problem/)"
   ]
  },
  {
   "cell_type": "markdown",
   "metadata": {},
   "source": [
    "### References\n",
    "\n",
    "[geeksforgeeks](https://www.geeksforgeeks.org/dynamic-programming/)"
   ]
  },
  {
   "cell_type": "markdown",
   "metadata": {},
   "source": [
    "# Graphs"
   ]
  },
  {
   "cell_type": "markdown",
   "metadata": {},
   "source": [
    "A **graph** in mathematics and computer science consists of **nodes**, also known as **vertices**. Nodes may or may not be connected with one another. In the illustration, which is a pictorial representation of a graph, the node `a` is connected with the node `c`, but `a` is not connected with `b`. The connecting line between two nodes is called an **edge**. If the edges between the nodes are undirected, the graph is called an **undirected graph**. If an edge is directed from one vertex (node) to another, a graph is called a **directed graph**. An directed edge is called an arc.\n",
    "![Graph](imgs/simple_graph_isolated.png)"
   ]
  },
  {
   "cell_type": "code",
   "execution_count": 10,
   "metadata": {},
   "outputs": [],
   "source": [
    "graph = { \"a\" : [\"c\"],\n",
    "          \"b\" : [\"c\", \"e\"],\n",
    "          \"c\" : [\"a\", \"b\", \"d\", \"e\"],\n",
    "          \"d\" : [\"c\"],\n",
    "          \"e\" : [\"c\", \"b\"],\n",
    "          \"f\" : []\n",
    "        }"
   ]
  },
  {
   "cell_type": "code",
   "execution_count": 11,
   "metadata": {},
   "outputs": [
    {
     "name": "stdout",
     "output_type": "stream",
     "text": [
      "[('a', 'c'), ('b', 'c'), ('b', 'e'), ('c', 'a'), ('c', 'b'), ('c', 'd'), ('c', 'e'), ('d', 'c'), ('e', 'c'), ('e', 'b')]\n"
     ]
    }
   ],
   "source": [
    "def generate_edges(graph):\n",
    "    edges = []\n",
    "    for node in graph:\n",
    "        for neighbour in graph[node]:\n",
    "            edges.append((node, neighbour))\n",
    "\n",
    "    return edges\n",
    "\n",
    "print(generate_edges(graph))"
   ]
  },
  {
   "cell_type": "markdown",
   "metadata": {},
   "source": [
    "The keys of the dictionary above are the nodes of our graph. The corresponding values are lists with the nodes, which are connecting by an edge."
   ]
  },
  {
   "cell_type": "markdown",
   "metadata": {},
   "source": [
    "### References\n",
    "\n",
    "[Python Advance Course Topics](https://www.python-course.eu/graphs_python.php)"
   ]
  },
  {
   "cell_type": "markdown",
   "metadata": {},
   "source": [
    "# Trees"
   ]
  },
  {
   "cell_type": "markdown",
   "metadata": {},
   "source": [
    "In computer science, a **tree** is a data structure that is modeled after nature. Unlike trees in nature, the tree data structure is upside down: the **root** of the tree is on top. A tree consists of **nodes** and its connections are called **edges**. The bottom nodes are also named **leaf** nodes. A tree may not have a cycle."
   ]
  },
  {
   "cell_type": "markdown",
   "metadata": {},
   "source": [
    "### Binary tree\n",
    "\n",
    "A binary tree is a data structure where every node has at most **two children** (left and right child). The root of a tree is on top. Every node below has a node above known as the parent node. We define a class thee which has a left and right attribute. From this binary tree we define the root (top of the three) and a left and right node.\n",
    "\n",
    "![Binary Tree](imgs/binary-tree.png)"
   ]
  },
  {
   "cell_type": "code",
   "execution_count": 12,
   "metadata": {},
   "outputs": [],
   "source": [
    "# Binary tree node\n",
    "\n",
    "class Node(object):\n",
    "    def __init__(self,value):\n",
    "        self.value = value\n",
    "        self.left = None\n",
    "        self.right = None"
   ]
  },
  {
   "cell_type": "code",
   "execution_count": 13,
   "metadata": {},
   "outputs": [],
   "source": [
    "# For the purpose of interview questions, do not use a Tree class\n",
    "\n",
    "class Tree(object):\n",
    "    def __init__(self, root):\n",
    "        self.root = root"
   ]
  },
  {
   "cell_type": "markdown",
   "metadata": {},
   "source": [
    "### Tree Traversals\n",
    "Unlike linear data structures (Array, Linked List, Queues, Stacks, etc) which have only one logical way to traverse them, trees can be traversed in different ways. Following are the generally used ways for traversing trees.\n",
    "\n",
    "**Depth First Search**\n",
    "- Inorder\n",
    "- Preorder\n",
    "- Postorder\n",
    "\n",
    "**Breadth First** / **Level Order Traversal**"
   ]
  },
  {
   "cell_type": "code",
   "execution_count": 14,
   "metadata": {},
   "outputs": [],
   "source": [
    "'''\n",
    "    4\n",
    "   / \\\n",
    "  2   5\n",
    " / \\\n",
    "1   3\n",
    "'''\n",
    "\n",
    "tree = Node(4)\n",
    "tree.left = Node(2)\n",
    "tree.right = Node(5)\n",
    "tree.left.left = Node(1)\n",
    "tree.left.right = Node(3)"
   ]
  },
  {
   "cell_type": "code",
   "execution_count": 15,
   "metadata": {},
   "outputs": [
    {
     "name": "stdout",
     "output_type": "stream",
     "text": [
      "1\n",
      "2\n",
      "3\n",
      "4\n",
      "5\n"
     ]
    }
   ],
   "source": [
    "# In-Order Traversal\n",
    "# left branch -> current node -> right branch\n",
    "\n",
    "def inOrderTraversal(node):\n",
    "    if node:\n",
    "        inOrderTraversal(node.left)\n",
    "        print(node.value)\n",
    "        inOrderTraversal(node.right)\n",
    "\n",
    "inOrderTraversal(tree)"
   ]
  },
  {
   "cell_type": "code",
   "execution_count": 16,
   "metadata": {},
   "outputs": [
    {
     "name": "stdout",
     "output_type": "stream",
     "text": [
      "1\n",
      "2\n",
      "3\n",
      "5\n",
      "4\n"
     ]
    }
   ],
   "source": [
    "# Postorder Traversal\n",
    "# left branch -> right branch -> current node\n",
    "\n",
    "def postOrderTraversal(node):\n",
    "    if node:\n",
    "        inOrderTraversal(node.left)\n",
    "        inOrderTraversal(node.right)\n",
    "        print(node.value)\n",
    "\n",
    "postOrderTraversal(tree)"
   ]
  },
  {
   "cell_type": "code",
   "execution_count": 17,
   "metadata": {},
   "outputs": [
    {
     "name": "stdout",
     "output_type": "stream",
     "text": [
      "4\n",
      "1\n",
      "2\n",
      "3\n",
      "5\n"
     ]
    }
   ],
   "source": [
    "# Preorder Traversal\n",
    "# current node -> left branch -> right branch\n",
    "\n",
    "def preOrderTraversal(node):\n",
    "    if node:\n",
    "        print(node.value)\n",
    "        inOrderTraversal(node.left)\n",
    "        inOrderTraversal(node.right)\n",
    "\n",
    "preOrderTraversal(tree)"
   ]
  },
  {
   "cell_type": "code",
   "execution_count": 18,
   "metadata": {},
   "outputs": [
    {
     "name": "stdout",
     "output_type": "stream",
     "text": [
      "4\n",
      "2\n",
      "5\n",
      "1\n",
      "3\n"
     ]
    }
   ],
   "source": [
    "# Level-Order Traversal\n",
    "\n",
    "def levelOrder(node):\n",
    "    queue = []\n",
    "    queue.append(node)\n",
    "    while (len(queue) > 0):\n",
    "        print(queue[0].value)\n",
    "        node = queue.pop(0)\n",
    "        if node.left:\n",
    "            queue.append(node.left)\n",
    "        if node.right:\n",
    "            queue.append(node.right)\n",
    "\n",
    "levelOrder(tree)"
   ]
  },
  {
   "cell_type": "markdown",
   "metadata": {},
   "source": [
    "# Homework"
   ]
  },
  {
   "cell_type": "markdown",
   "metadata": {},
   "source": [
    "### Problem: Big O\n",
    "\n",
    "Given the following algorithm, what is the Big O Time Complexity?\n",
    "\n",
    "```python\n",
    "def my_function(data):\n",
    "    first_element = data[0]\n",
    "    \n",
    "    for value in data:\n",
    "        print(value)\n",
    "    \n",
    "    for x in data:\n",
    "        for y in data:\n",
    "            print(x, y)\n",
    "```"
   ]
  },
  {
   "cell_type": "code",
   "execution_count": null,
   "metadata": {},
   "outputs": [],
   "source": []
  },
  {
   "cell_type": "markdown",
   "metadata": {},
   "source": [
    "### Problem: Coin Change\n",
    "\n",
    "Given a value N, if we want to make change for N cents, and we have infinite supply of each of S = { S1, S2, .. , Sm} valued coins, how many ways can we make the change? The order of coins doesn’t matter.\n",
    "\n",
    "#### Example\n",
    "For N = 4 and S = {1,2,3}, there are four solutions:\n",
    "- {1,1,1,1}\n",
    "- {1,1,2}\n",
    "- {2,2}\n",
    "- {1,3}\n",
    "\n",
    "So output should be `4`. \n",
    "\n",
    "For N = 10 and S = {2, 5, 3, 6}, there are five solutions: \n",
    "- {2,2,2,2,2}\n",
    "- {2,2,3,3}\n",
    "- {2,2,6}\n",
    "- {2,3,5}\n",
    "- {5,5}. \n",
    "\n",
    "So the output should be `5`."
   ]
  },
  {
   "cell_type": "code",
   "execution_count": 19,
   "metadata": {},
   "outputs": [
    {
     "name": "stdout",
     "output_type": "stream",
     "text": [
      "4\n"
     ]
    }
   ],
   "source": [
    "# Recursive solution\n",
    "  \n",
    "# Returns the count of ways we can sum \n",
    "# S[0...m-1] coins to get sum n \n",
    "def count(S, m, n ): \n",
    "  \n",
    "    # If n is 0 then there is 1 \n",
    "    # solution (do not include any coin) \n",
    "    if (n == 0): \n",
    "        return 1\n",
    "  \n",
    "    # If n is less than 0 then no \n",
    "    # solution exists \n",
    "    if (n < 0): \n",
    "        return 0; \n",
    "  \n",
    "    # If there are no coins and n \n",
    "    # is greater than 0, then no \n",
    "    # solution exist \n",
    "    if (m <=0 and n >= 1): \n",
    "        return 0\n",
    "  \n",
    "    # count is sum of solutions (i)  \n",
    "    # including S[m-1] (ii) excluding S[m-1] \n",
    "    return count( S, m - 1, n ) + count( S, m, n-S[m-1] ); \n",
    "  \n",
    "arr = [1, 2, 3] \n",
    "m = len(arr) \n",
    "print(count(arr, m, 4)) "
   ]
  },
  {
   "cell_type": "code",
   "execution_count": 20,
   "metadata": {},
   "outputs": [],
   "source": [
    "# Dynamic Programming Solution\n",
    "\n",
    "def count(S, m, n): \n",
    "    # We need n+1 rows as the table is constructed  \n",
    "    # in bottom up manner using the base case 0 value \n",
    "    # case (n = 0) \n",
    "    table = [\"write code here\"] \n",
    "  \n",
    "    # Fill the entries for 0 value case (n = 0) \n",
    "    for i in range(m): \n",
    "        # write code here\n",
    "        pass\n",
    "  \n",
    "    # Fill rest of the table entries in bottom up manner \n",
    "    for i in range(1, n+1): \n",
    "        for j in range(m): \n",
    "  \n",
    "            # Count of solutions including S[j] \n",
    "            x = \"write code here\"\n",
    "  \n",
    "            # Count of solutions excluding S[j] \n",
    "            y = \"write code here\"\n",
    "  \n",
    "            # total count \n",
    "            table[i][j] = \"write code here\"\n",
    "  \n",
    "    return table[n][m-1] \n",
    "  \n",
    "# arr = [1, 2, 3] \n",
    "# m = len(arr) \n",
    "# n = 4\n",
    "# print(count(arr, m, n)) "
   ]
  },
  {
   "cell_type": "markdown",
   "metadata": {},
   "source": [
    "### Problem: Find Shortest Path\n",
    "\n",
    "Find the shortest path from one node to another node in a graph.\n",
    "\n",
    "Assumptions:\n",
    "\n",
    "**Adjacent vertices**:\n",
    "Two vertices are adjacent when they are both incident to a common edge.\n",
    "\n",
    "**Path in an undirected Graph**:\n",
    "A path in an undirected graph is a sequence of vertices $P = ( v_1, v_2, ..., v_n ) ∈ V * V * ... * V$ such that $v_i$ is adjacent to $v_{i+1}$ for $1 ≤ i < n$. Such a path $P$ is called a path of length $n$ from $v_1$ to $v_n$.\n",
    "\n",
    "**Simple Path**:\n",
    "A path with no repeated vertices is called a simple path.\n",
    "\n",
    "#### Example:\n",
    "(a, c, e) is a simple path in our graph, as well as (a,c,e,b). (a,c,e,b,c,d) is a path but not a simple path, because the node c appears twice."
   ]
  },
  {
   "cell_type": "markdown",
   "metadata": {},
   "source": [
    "### Problem: Write a Program to Find the Maximum Depth or Height of a Tree\n",
    "Given a binary tree, find the height of it. Height of empty tree is 0 and height of below tree is 3.\n",
    "\n",
    "```\n",
    "    1\n",
    "   / \\\n",
    "  2   3\n",
    " / \\\n",
    "4   5\n",
    "```"
   ]
  },
  {
   "cell_type": "code",
   "execution_count": null,
   "metadata": {},
   "outputs": [],
   "source": []
  }
 ],
 "metadata": {
  "kernelspec": {
   "display_name": "Python 3",
   "language": "python",
   "name": "python3"
  },
  "language_info": {
   "codemirror_mode": {
    "name": "ipython",
    "version": 3
   },
   "file_extension": ".py",
   "mimetype": "text/x-python",
   "name": "python",
   "nbconvert_exporter": "python",
   "pygments_lexer": "ipython3",
   "version": "3.7.4"
  }
 },
 "nbformat": 4,
 "nbformat_minor": 4
}
