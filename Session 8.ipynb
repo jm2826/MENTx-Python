{
 "cells": [
  {
   "cell_type": "markdown",
   "metadata": {},
   "source": [
    "# Covered Topics\n",
    "- Command Line\n",
    " - Command Line Arguments\n",
    " - Command Line Interfaces"
   ]
  },
  {
   "cell_type": "markdown",
   "metadata": {},
   "source": [
    "## Command Line Arguments\n",
    "\n",
    "[Real Python](https://realpython.com/python-command-line-arguments/)"
   ]
  },
  {
   "cell_type": "markdown",
   "metadata": {},
   "source": [
    "### sys.argv\n",
    "\n",
    "Before exploring some accepted conventions and discovering how to handle Python command line arguments, you need to know that the underlying support for all Python command line arguments is provided by `sys.argv`.\n",
    "\n",
    "The sys module exposes an array named argv that includes the following:\n",
    "\n",
    "- `argv[0]` contains the name of the current Python program.\n",
    "- `argv[1:]`, the rest of the list, contains any and all Python command line arguments passed to the program.\n",
    "\n",
    "The following example demonstrates the content of sys.argv:\n",
    "\n",
    "```python\n",
    "import sys\n",
    "\n",
    "print(f\"Name of the script      : {sys.argv[0]=}\")\n",
    "print(f\"Arguments of the script : {sys.argv[1:]=}\")\n",
    "```\n",
    "\n",
    "**Command Line Input**\n",
    "```\n",
    "python3 argv.py un deux trois quatre\n",
    "```\n",
    "\n",
    "**Command Line Output**\n",
    "```\n",
    "Name of the script      : sys.argv[0]='argv.py'\n",
    "Arguments of the script : sys.argv[1:]=['un', 'deux', 'trois', 'quatre']`\n",
    "```"
   ]
  },
  {
   "cell_type": "markdown",
   "metadata": {},
   "source": [
    "### The Anatomy of Python Command Line Arguments\n",
    "There are standards that are regularly used by developers while implementing a command line interface.\n",
    "\n",
    "Python command line arguments are a subset of the command line interface. They can be composed of different types of arguments:\n",
    "\n",
    "1. **Options** modify the behavior of a particular command or program.\n",
    "2. **Arguments** represent the source or destination to be processed.\n",
    "3. **Subcommands** allow a program to define more than one command with the respective set of options and arguments."
   ]
  },
  {
   "cell_type": "markdown",
   "metadata": {},
   "source": [
    "### options\n",
    "\n",
    "```python\n",
    "import sys\n",
    "\n",
    "opts = [opt for opt in sys.argv[1:] if opt.startswith(\"-\")]\n",
    "args = [arg for arg in sys.argv[1:] if not arg.startswith(\"-\")]\n",
    "\n",
    "if \"-c\" in opts:\n",
    "    print(\" \".join(arg.capitalize() for arg in args))\n",
    "elif \"-u\" in opts:\n",
    "    print(\" \".join(arg.upper() for arg in args))\n",
    "elif \"-l\" in opts:\n",
    "    print(\" \".join(arg.lower() for arg in args))\n",
    "else:\n",
    "    print(f\"Usage: {sys.argv[0]} (-c | -u | -l) <arguments>...\")\n",
    "```\n",
    "\n",
    "**Command Line Input**\n",
    "```\n",
    "python cul.py -c un deux trois\n",
    "```\n",
    "\n",
    "**Command Line Output**\n",
    "```\n",
    "Un Deux Trois\n",
    "```"
   ]
  },
  {
   "cell_type": "markdown",
   "metadata": {},
   "source": [
    "### argparse\n",
    "\n",
    "```python\n",
    "import argparse\n",
    "\n",
    "\n",
    "def init_argparse():\n",
    "    parser = argparse.ArgumentParser(\n",
    "        usage=\"%(prog)s [OPTION] [NUMBER]...\",\n",
    "        description=\"Add numbers together.\",\n",
    "    )\n",
    "    parser.add_argument(\n",
    "        \"-v\", \"--version\", action=\"version\",\n",
    "        version=f\"{parser.prog} version 1.0.0\"\n",
    "    )\n",
    "    parser.add_argument(\"numbers\", nargs=\"*\")\n",
    "    return parser\n",
    "\n",
    "def main():\n",
    "    parser = init_argparse()\n",
    "    args = parser.parse_args()\n",
    "    try:\n",
    "        # using map() to \n",
    "        # perform conversion \n",
    "        sum_list = list(map(int, args.numbers)) \n",
    "\n",
    "        sum_out = sum(sum_list)\n",
    "        print(sum_out)\n",
    "\n",
    "    except ValueError:\n",
    "        print('Invalid input. Please try again with only numbers.')\n",
    "\n",
    "if __name__ == \"__main__\":\n",
    "    main()\n",
    "```"
   ]
  },
  {
   "cell_type": "markdown",
   "metadata": {},
   "source": [
    "With argparse, you get a clean approach to add `--help` and `--version` options that didn’t exist before. The expected arguments (the numbers to be summed) are all available in field files of object `argparse.Namespace`. This object is populated on the line calling `parse_args()`.\n",
    "\n",
    "Commands to try:\n",
    "```\n",
    "python3 add.py -v\n",
    "python3 add.py s t u\n",
    "python3 add.py 1 2 3\n",
    "```"
   ]
  },
  {
   "cell_type": "markdown",
   "metadata": {},
   "source": [
    "## Command Line Interfaces\n",
    "\n",
    "[Code Burst](https://codeburst.io/building-beautiful-command-line-interfaces-with-python-26c7e1bb54df)"
   ]
  },
  {
   "cell_type": "code",
   "execution_count": null,
   "metadata": {},
   "outputs": [
    {
     "name": "stdout",
     "output_type": "stream",
     "text": [
      "Welcome to the CLI\n",
      "\n",
      "Enter command (Type HELP for instructions): HELP\n",
      "\n",
      "COMMANDS:\n",
      "\n",
      "CAPITALIZE <CHARACTERS> - Capitalize a word or a sentence\n",
      "LOWER <CHARACTERS> - Lower a word or a sentence\n",
      "EXIT - Terminate the program\n",
      "HELP - Print out commands\n",
      "\n",
      "\n",
      "Enter command (Type HELP for instructions): capitalize wow this is awesome\n",
      "WOW THIS IS AWESOME\n",
      "\n",
      "Enter command (Type HELP for instructions): lower wow this is awesome\n",
      "wow this is awesome\n",
      "\n",
      "Enter command (Type HELP for instructions): EXIT\n"
     ]
    }
   ],
   "source": [
    "help = \"\"\"\n",
    "COMMANDS:\n",
    "\n",
    "CAPITALIZE <CHARACTERS> - Capitalize a word or a sentence\n",
    "LOWER <CHARACTERS> - Lower a word or a sentence\n",
    "EXIT - Terminate the program\n",
    "HELP - Print out commands\n",
    "\"\"\"\n",
    "\n",
    "\n",
    "def command_manager(command):\n",
    "    \"\"\"\n",
    "    Handles different commands\n",
    "    Returns nothing unless given EXIT\n",
    "    Returns 1 if given EXIT\n",
    "    \"\"\"\n",
    "\n",
    "    if command[0].upper() == \"HELP\":\n",
    "        # Display every command with instructions\n",
    "        print(help)\n",
    "    \n",
    "    elif command[0].upper() == \"EXIT\":\n",
    "        # Return 1 which represents a flag\n",
    "        # that breaks / ends the main program\n",
    "        return 1\n",
    "    \n",
    "    elif command[0].upper() == \"CAPITALIZE\":\n",
    "        characters = \" \".join(command[1:])\n",
    "        print(characters.upper())\n",
    "    \n",
    "    elif command[0].upper() == \"LOWER\":\n",
    "        characters = \" \".join(command[1:])\n",
    "        print(characters.lower())\n",
    "    \n",
    "    else:\n",
    "        print(\"Command not recognized. Try again.\")\n",
    "\n",
    "def main():\n",
    "    print(\"Welcome to the CLI\")\n",
    "    while True:\n",
    "        command = input(\"\\nEnter command (Type HELP for instructions): \").split(\" \")\n",
    "\n",
    "        # Pass in commands from command line\n",
    "        # Break when user types in EXIT\n",
    "        if command_manager(command):\n",
    "            break\n",
    "\n",
    "main()"
   ]
  },
  {
   "cell_type": "code",
   "execution_count": null,
   "metadata": {},
   "outputs": [],
   "source": []
  }
 ],
 "metadata": {
  "kernelspec": {
   "display_name": "Python 3",
   "language": "python",
   "name": "python3"
  },
  "language_info": {
   "codemirror_mode": {
    "name": "ipython",
    "version": 3
   },
   "file_extension": ".py",
   "mimetype": "text/x-python",
   "name": "python",
   "nbconvert_exporter": "python",
   "pygments_lexer": "ipython3",
   "version": "3.7.6"
  }
 },
 "nbformat": 4,
 "nbformat_minor": 4
}
